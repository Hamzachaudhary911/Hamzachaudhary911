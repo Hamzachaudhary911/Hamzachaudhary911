{
  "nbformat": 4,
  "nbformat_minor": 0,
  "metadata": {
    "colab": {
      "provenance": [],
      "authorship_tag": "ABX9TyNGZRzI+q/VeJDr6S3i8a50",
      "include_colab_link": true
    },
    "kernelspec": {
      "name": "python3",
      "display_name": "Python 3"
    },
    "language_info": {
      "name": "python"
    }
  },
  "cells": [
    {
      "cell_type": "markdown",
      "metadata": {
        "id": "view-in-github",
        "colab_type": "text"
      },
      "source": [
        "<a href=\"https://colab.research.google.com/github/Hamzachaudhary911/Hamzachaudhary911/blob/main/Numpy_Array_Basic_Concepts.ipynb\" target=\"_parent\"><img src=\"https://colab.research.google.com/assets/colab-badge.svg\" alt=\"Open In Colab\"/></a>"
      ]
    },
    {
      "cell_type": "code",
      "execution_count": 65,
      "metadata": {
        "id": "Sp4OCqHmUtGl"
      },
      "outputs": [],
      "source": [
        "import numpy as np"
      ]
    },
    {
      "cell_type": "markdown",
      "source": [
        "# **Creating Arrays 1D, 2D, 3D & 4D**"
      ],
      "metadata": {
        "id": "FE7rP7XYVB8H"
      }
    },
    {
      "cell_type": "code",
      "source": [
        "#1 Dimensional Array\n",
        "arr1=np.array([1,2,3,4])\n",
        "arr1"
      ],
      "metadata": {
        "colab": {
          "base_uri": "https://localhost:8080/"
        },
        "id": "tUyHvGntU84w",
        "outputId": "9f055c86-f87e-45f1-8c77-44c6bcbe5935"
      },
      "execution_count": 66,
      "outputs": [
        {
          "output_type": "execute_result",
          "data": {
            "text/plain": [
              "array([1, 2, 3, 4])"
            ]
          },
          "metadata": {},
          "execution_count": 66
        }
      ]
    },
    {
      "cell_type": "code",
      "source": [
        "# 2 Dimensional Array\n",
        "arr2=np.array([[1,2,3,4,5],\n",
        "             [11,12,13,14,15]])\n",
        "arr2.ndim\n"
      ],
      "metadata": {
        "colab": {
          "base_uri": "https://localhost:8080/"
        },
        "id": "rZUkhEMpWY5a",
        "outputId": "773d9096-9d31-45c9-91b7-628dad506499"
      },
      "execution_count": 67,
      "outputs": [
        {
          "output_type": "execute_result",
          "data": {
            "text/plain": [
              "2"
            ]
          },
          "metadata": {},
          "execution_count": 67
        }
      ]
    },
    {
      "cell_type": "code",
      "source": [
        "#3 D Array\n",
        "arr3=np.array([[[1,2,3,4,5],\n",
        "             [7,18,19,22,12],\n",
        "            [898,281,28,0,23]]])\n",
        "arr3"
      ],
      "metadata": {
        "colab": {
          "base_uri": "https://localhost:8080/"
        },
        "id": "wA4XmxlMYUVW",
        "outputId": "a3d3a507-2296-4730-d34f-8cc27aed8365"
      },
      "execution_count": 68,
      "outputs": [
        {
          "output_type": "execute_result",
          "data": {
            "text/plain": [
              "array([[[  1,   2,   3,   4,   5],\n",
              "        [  7,  18,  19,  22,  12],\n",
              "        [898, 281,  28,   0,  23]]])"
            ]
          },
          "metadata": {},
          "execution_count": 68
        }
      ]
    },
    {
      "cell_type": "code",
      "source": [
        "#Check the Type of an array\n",
        "type(arr1)"
      ],
      "metadata": {
        "colab": {
          "base_uri": "https://localhost:8080/"
        },
        "id": "sO3UwlLjU-SG",
        "outputId": "8e6cfe6f-e4e5-44bf-a239-e66569ecbb59"
      },
      "execution_count": 69,
      "outputs": [
        {
          "output_type": "execute_result",
          "data": {
            "text/plain": [
              "numpy.ndarray"
            ]
          },
          "metadata": {},
          "execution_count": 69
        }
      ]
    },
    {
      "cell_type": "code",
      "source": [
        "#Check the shape of an array\n",
        "arr1.shape"
      ],
      "metadata": {
        "colab": {
          "base_uri": "https://localhost:8080/"
        },
        "id": "bnUK_HFdU-Uj",
        "outputId": "3239d645-71b7-49a7-c220-9129b9d3b20f"
      },
      "execution_count": 70,
      "outputs": [
        {
          "output_type": "execute_result",
          "data": {
            "text/plain": [
              "(4,)"
            ]
          },
          "metadata": {},
          "execution_count": 70
        }
      ]
    },
    {
      "cell_type": "code",
      "source": [
        "#Check the size of an array\n",
        "arr1.size"
      ],
      "metadata": {
        "colab": {
          "base_uri": "https://localhost:8080/"
        },
        "id": "vnmsg-81U-W1",
        "outputId": "a6446840-f06b-4d62-9b59-a49f497f284f"
      },
      "execution_count": 71,
      "outputs": [
        {
          "output_type": "execute_result",
          "data": {
            "text/plain": [
              "4"
            ]
          },
          "metadata": {},
          "execution_count": 71
        }
      ]
    },
    {
      "cell_type": "markdown",
      "source": [
        "# **Indexing and Slicing**"
      ],
      "metadata": {
        "id": "ghZP0IZ8ZhOx"
      }
    },
    {
      "cell_type": "code",
      "source": [
        "arr2"
      ],
      "metadata": {
        "colab": {
          "base_uri": "https://localhost:8080/"
        },
        "id": "Wl_EcGsCU-Yc",
        "outputId": "e4d27058-f09c-43ae-b133-a55f3eb91ced"
      },
      "execution_count": 72,
      "outputs": [
        {
          "output_type": "execute_result",
          "data": {
            "text/plain": [
              "array([[ 1,  2,  3,  4,  5],\n",
              "       [11, 12, 13, 14, 15]])"
            ]
          },
          "metadata": {},
          "execution_count": 72
        }
      ]
    },
    {
      "cell_type": "code",
      "source": [
        "#Accessing 3,4,5\n",
        "arr2[0,2:]"
      ],
      "metadata": {
        "colab": {
          "base_uri": "https://localhost:8080/"
        },
        "id": "AD7rC7WVjL_u",
        "outputId": "58c165ec-0060-4c1c-a9cd-9b5972b4a417"
      },
      "execution_count": 92,
      "outputs": [
        {
          "output_type": "execute_result",
          "data": {
            "text/plain": [
              "array([3, 4, 5])"
            ]
          },
          "metadata": {},
          "execution_count": 92
        }
      ]
    },
    {
      "cell_type": "code",
      "source": [
        "arr1[2]=109\n",
        "arr1[1]"
      ],
      "metadata": {
        "colab": {
          "base_uri": "https://localhost:8080/"
        },
        "id": "GC4uZFKWjML6",
        "outputId": "daa5e06e-fec0-4ffd-e49d-2ea922c4bd06"
      },
      "execution_count": 91,
      "outputs": [
        {
          "output_type": "execute_result",
          "data": {
            "text/plain": [
              "2"
            ]
          },
          "metadata": {},
          "execution_count": 91
        }
      ]
    },
    {
      "cell_type": "code",
      "source": [
        "# Want to access 14, 15\n",
        "arr2[1,3:]"
      ],
      "metadata": {
        "colab": {
          "base_uri": "https://localhost:8080/"
        },
        "id": "BpE943YjZtiy",
        "outputId": "f674f265-89d0-44d3-f906-4bebb7d4d0f3"
      },
      "execution_count": 73,
      "outputs": [
        {
          "output_type": "execute_result",
          "data": {
            "text/plain": [
              "array([14, 15])"
            ]
          },
          "metadata": {},
          "execution_count": 73
        }
      ]
    },
    {
      "cell_type": "code",
      "source": [
        "# Want to access (1,2) and (13,14)\n",
        "print(arr2[0,0:2])\n",
        "print(arr2[1,2:4])"
      ],
      "metadata": {
        "colab": {
          "base_uri": "https://localhost:8080/"
        },
        "id": "hpkUkB3WWTzh",
        "outputId": "80e559be-d4ef-4c62-914f-3af071f1e422"
      },
      "execution_count": 74,
      "outputs": [
        {
          "output_type": "stream",
          "name": "stdout",
          "text": [
            "[1 2]\n",
            "[13 14]\n"
          ]
        }
      ]
    },
    {
      "cell_type": "code",
      "source": [
        "arr3"
      ],
      "metadata": {
        "colab": {
          "base_uri": "https://localhost:8080/"
        },
        "id": "0jC9LiwmbQ77",
        "outputId": "65548b1c-284c-41e6-d3b4-0376007e0fc0"
      },
      "execution_count": 77,
      "outputs": [
        {
          "output_type": "execute_result",
          "data": {
            "text/plain": [
              "array([[[  1,   2,   3,   4,   5],\n",
              "        [  7,  18,  19,  22,  12],\n",
              "        [898, 281,  28,   0,  23]]])"
            ]
          },
          "metadata": {},
          "execution_count": 77
        }
      ]
    },
    {
      "cell_type": "code",
      "source": [
        "# Want to get 18,19 and 281,28\n",
        "arr3[0,1:,1:3]"
      ],
      "metadata": {
        "colab": {
          "base_uri": "https://localhost:8080/"
        },
        "id": "ITMfm1ZpbsXt",
        "outputId": "267e533c-f086-46a9-b863-0bd21404e379"
      },
      "execution_count": 118,
      "outputs": [
        {
          "output_type": "execute_result",
          "data": {
            "text/plain": [
              "array([[ 18,  19],\n",
              "       [281,  28]])"
            ]
          },
          "metadata": {},
          "execution_count": 118
        }
      ]
    },
    {
      "cell_type": "markdown",
      "source": [
        "**Indexing on 3D Array**"
      ],
      "metadata": {
        "id": "J-OHD9HG6ct9"
      }
    },
    {
      "cell_type": "code",
      "source": [
        "array3=np.array([[['Hamza','Haroon','Asad','Zain'],\n",
        "                ['Haji','Lahore','Juniad','Saad']],\n",
        "                [['Kamran','Bilal','Noman','Ali'],\n",
        "                ['Waqas','Usman','Masood','Aslam']],\n",
        "                [['Zakrya','Beenish','Omar','Ameer'],\n",
        "                ['Kubra','Faryal','Tahir','Rizwan']]])\n",
        "array3\n"
      ],
      "metadata": {
        "colab": {
          "base_uri": "https://localhost:8080/"
        },
        "id": "ZaMdF6wgbtUx",
        "outputId": "53a71e95-e98f-4552-8de1-7a79acf0173a"
      },
      "execution_count": 96,
      "outputs": [
        {
          "output_type": "execute_result",
          "data": {
            "text/plain": [
              "array([[['Hamza', 'Haroon', 'Asad', 'Zain'],\n",
              "        ['Haji', 'Lahore', 'Juniad', 'Saad']],\n",
              "\n",
              "       [['Kamran', 'Bilal', 'Noman', 'Ali'],\n",
              "        ['Waqas', 'Usman', 'Masood', 'Aslam']],\n",
              "\n",
              "       [['Zakrya', 'Beenish', 'Omar', 'Ameer'],\n",
              "        ['Kubra', 'Faryal', 'Tahir', 'Rizwan']]], dtype='<U7')"
            ]
          },
          "metadata": {},
          "execution_count": 96
        }
      ]
    },
    {
      "cell_type": "code",
      "source": [
        "array3[0, 1, 1:3]"
      ],
      "metadata": {
        "colab": {
          "base_uri": "https://localhost:8080/"
        },
        "id": "4Da2f7dft9W2",
        "outputId": "3f7f78b6-b299-4e1d-bffa-718b7b959c22"
      },
      "execution_count": 101,
      "outputs": [
        {
          "output_type": "execute_result",
          "data": {
            "text/plain": [
              "array(['Lahore', 'Juniad'], dtype='<U7')"
            ]
          },
          "metadata": {},
          "execution_count": 101
        }
      ]
    },
    {
      "cell_type": "code",
      "source": [
        "d3=np.array([[[1,2,3,4],\n",
        "              [5,6,7,8]],\n",
        "             [[11,44,33,8],\n",
        "             [7,46,101,77]]])\n",
        "d3"
      ],
      "metadata": {
        "colab": {
          "base_uri": "https://localhost:8080/"
        },
        "id": "wyKEl2SuuZoK",
        "outputId": "c619f9be-15ef-4f23-cad7-9df1af3205c4"
      },
      "execution_count": 104,
      "outputs": [
        {
          "output_type": "execute_result",
          "data": {
            "text/plain": [
              "array([[[  1,   2,   3,   4],\n",
              "        [  5,   6,   7,   8]],\n",
              "\n",
              "       [[ 11,  44,  33,   8],\n",
              "        [  7,  46, 101,  77]]])"
            ]
          },
          "metadata": {},
          "execution_count": 104
        }
      ]
    },
    {
      "cell_type": "code",
      "source": [
        "d3[0:2,1,1:4:2]"
      ],
      "metadata": {
        "colab": {
          "base_uri": "https://localhost:8080/"
        },
        "id": "2fAdhV4x0Lt8",
        "outputId": "52d66883-88ac-4505-83eb-ec882c670577"
      },
      "execution_count": 107,
      "outputs": [
        {
          "output_type": "execute_result",
          "data": {
            "text/plain": [
              "array([[ 6,  8],\n",
              "       [46, 77]])"
            ]
          },
          "metadata": {},
          "execution_count": 107
        }
      ]
    },
    {
      "cell_type": "code",
      "source": [
        "d3[0:2,0:,2:]"
      ],
      "metadata": {
        "colab": {
          "base_uri": "https://localhost:8080/"
        },
        "id": "I08R4Tqc0sxk",
        "outputId": "96eba685-bd97-4702-e2c9-54266cdc32cb"
      },
      "execution_count": 106,
      "outputs": [
        {
          "output_type": "execute_result",
          "data": {
            "text/plain": [
              "array([[[  3,   4],\n",
              "        [  7,   8]],\n",
              "\n",
              "       [[ 33,   8],\n",
              "        [101,  77]]])"
            ]
          },
          "metadata": {},
          "execution_count": 106
        }
      ]
    },
    {
      "cell_type": "code",
      "source": [
        "arr4=([[[[1,2,3,4],\n",
        "         [5,6,7,8],\n",
        "        [11,299,98,67],\n",
        "         [99,17,90,11]],\n",
        "\n",
        "        [[11,22,33,44],\n",
        "         [45,67,89,43],\n",
        "         [98,76,55,34],\n",
        "         [99,108,565,555]],\n",
        "\n",
        "         [[111,222,333,444],\n",
        "        [999,888,777,666],\n",
        "          [234,56666,1801,7161],\n",
        "          [1,9,87,12]]],\n",
        "\n",
        "      [[[1,23,31,4],\n",
        "         [5,609,7,8],\n",
        "        [101,219,98,67],\n",
        "         [919,1767,90,11]],\n",
        "\n",
        "        [[11,22,33,424],\n",
        "         [4915,67,819,43],\n",
        "         [9828,76,535,34],\n",
        "         [99,108,265,555]],\n",
        "\n",
        "         [[191,292,333,444],\n",
        "        [909,808,747,626],\n",
        "          [3434,566,10,761],\n",
        "            [1,9,87,12]]]])\n",
        "arr4"
      ],
      "metadata": {
        "colab": {
          "base_uri": "https://localhost:8080/"
        },
        "id": "tpYs3Hl91A4A",
        "outputId": "a7149318-1e6c-417a-908b-df7333ed0d1c"
      },
      "execution_count": 110,
      "outputs": [
        {
          "output_type": "execute_result",
          "data": {
            "text/plain": [
              "[[[[1, 2, 3, 4], [5, 6, 7, 8], [11, 299, 98, 67], [99, 17, 90, 11]],\n",
              "  [[11, 22, 33, 44], [45, 67, 89, 43], [98, 76, 55, 34], [99, 108, 565, 555]],\n",
              "  [[111, 222, 333, 444],\n",
              "   [999, 888, 777, 666],\n",
              "   [234, 56666, 1801, 7161],\n",
              "   [1, 9, 87, 12]]],\n",
              " [[[1, 23, 31, 4], [5, 609, 7, 8], [101, 219, 98, 67], [919, 1767, 90, 11]],\n",
              "  [[11, 22, 33, 424],\n",
              "   [4915, 67, 819, 43],\n",
              "   [9828, 76, 535, 34],\n",
              "   [99, 108, 265, 555]],\n",
              "  [[191, 292, 333, 444],\n",
              "   [909, 808, 747, 626],\n",
              "   [3434, 566, 10, 761],\n",
              "   [1, 9, 87, 12]]]]"
            ]
          },
          "metadata": {},
          "execution_count": 110
        }
      ]
    },
    {
      "cell_type": "code",
      "source": [
        "arr = np.array([[1,2,3,4,5], [6,7,8,9,10]])\n",
        "arr"
      ],
      "metadata": {
        "colab": {
          "base_uri": "https://localhost:8080/"
        },
        "id": "1XE6qvDE2omI",
        "outputId": "bcc72003-787c-4bab-820b-2bf22432c388"
      },
      "execution_count": 116,
      "outputs": [
        {
          "output_type": "execute_result",
          "data": {
            "text/plain": [
              "array([[ 1,  2,  3,  4,  5],\n",
              "       [ 6,  7,  8,  9, 10]])"
            ]
          },
          "metadata": {},
          "execution_count": 116
        }
      ]
    },
    {
      "cell_type": "code",
      "source": [
        "arr[1,-1]"
      ],
      "metadata": {
        "colab": {
          "base_uri": "https://localhost:8080/"
        },
        "id": "9Kxx5Ufh3WqY",
        "outputId": "aa89beb9-043d-4eae-ffb3-ad0c2e770902"
      },
      "execution_count": 117,
      "outputs": [
        {
          "output_type": "execute_result",
          "data": {
            "text/plain": [
              "10"
            ]
          },
          "metadata": {},
          "execution_count": 117
        }
      ]
    },
    {
      "cell_type": "markdown",
      "source": [
        "# **DataTypes**"
      ],
      "metadata": {
        "id": "8-bGTS2s60O5"
      }
    },
    {
      "cell_type": "code",
      "source": [
        "array=np.array([1.2,2.5,6.7])\n",
        "array.dtype\n"
      ],
      "metadata": {
        "colab": {
          "base_uri": "https://localhost:8080/"
        },
        "id": "te6YEDlM4zVE",
        "outputId": "fdbb89d4-5913-41e5-87da-3b250b340182"
      },
      "execution_count": 123,
      "outputs": [
        {
          "output_type": "execute_result",
          "data": {
            "text/plain": [
              "dtype('float64')"
            ]
          },
          "metadata": {},
          "execution_count": 123
        }
      ]
    },
    {
      "cell_type": "code",
      "source": [
        "array=np.array(['AJK','LAHORE','LONDON'])\n",
        "array.dtype\n"
      ],
      "metadata": {
        "colab": {
          "base_uri": "https://localhost:8080/"
        },
        "id": "JRa6YKnT68Gj",
        "outputId": "b930ccac-9c3a-4915-f79a-c06f20c65697"
      },
      "execution_count": 128,
      "outputs": [
        {
          "output_type": "execute_result",
          "data": {
            "text/plain": [
              "dtype('<U6')"
            ]
          },
          "metadata": {},
          "execution_count": 128
        }
      ]
    },
    {
      "cell_type": "code",
      "source": [
        "arr = np.array([1, 0, 3])\n",
        "arr.astype(bool)"
      ],
      "metadata": {
        "colab": {
          "base_uri": "https://localhost:8080/"
        },
        "id": "mbnlJisi7SVN",
        "outputId": "6c6c047a-ebc8-4241-df27-ada691dc63fe"
      },
      "execution_count": 130,
      "outputs": [
        {
          "output_type": "execute_result",
          "data": {
            "text/plain": [
              "array([ True, False,  True])"
            ]
          },
          "metadata": {},
          "execution_count": 130
        }
      ]
    },
    {
      "cell_type": "code",
      "source": [
        "arr1=np.arange(1,10)\n",
        "arr1.astype(float)"
      ],
      "metadata": {
        "colab": {
          "base_uri": "https://localhost:8080/"
        },
        "id": "F1OiCONp7iud",
        "outputId": "25efd5bd-6f61-48fc-f78b-acbf0f6eccfe"
      },
      "execution_count": 131,
      "outputs": [
        {
          "output_type": "execute_result",
          "data": {
            "text/plain": [
              "array([1., 2., 3., 4., 5., 6., 7., 8., 9.])"
            ]
          },
          "metadata": {},
          "execution_count": 131
        }
      ]
    },
    {
      "cell_type": "markdown",
      "source": [
        "# **Copy vs View**"
      ],
      "metadata": {
        "id": "vqoYoEwU-ltj"
      }
    },
    {
      "cell_type": "code",
      "source": [
        "#Copy of an array\n",
        "a=np.array([1,2,3,4,5])\n",
        "b= a.copy()\n",
        "a[1]=10\n",
        "print(a)\n",
        "print(b)"
      ],
      "metadata": {
        "colab": {
          "base_uri": "https://localhost:8080/"
        },
        "id": "C7G3WeMh-x_q",
        "outputId": "11a28379-c648-430b-9090-c70cc0cdeb36"
      },
      "execution_count": 136,
      "outputs": [
        {
          "output_type": "stream",
          "name": "stdout",
          "text": [
            "[ 1 10  3  4  5]\n",
            "[1 2 3 4 5]\n"
          ]
        }
      ]
    },
    {
      "cell_type": "code",
      "source": [
        "#View of an array\n",
        "array=np.arange(1,11)\n",
        "arr1=array.view()\n",
        "array[4:7]=190\n",
        "print(array)\n",
        "print(arr1)"
      ],
      "metadata": {
        "colab": {
          "base_uri": "https://localhost:8080/"
        },
        "id": "Vd1dz2kh-yH9",
        "outputId": "dd901131-72e7-45af-b9ab-53f033e44369"
      },
      "execution_count": 141,
      "outputs": [
        {
          "output_type": "stream",
          "name": "stdout",
          "text": [
            "[  1   2   3   4 190 190 190   8   9  10]\n",
            "[  1   2   3   4 190 190 190   8   9  10]\n"
          ]
        }
      ]
    },
    {
      "cell_type": "markdown",
      "source": [
        "# **Joining Array**"
      ],
      "metadata": {
        "id": "v6t-FgRYAWO5"
      }
    },
    {
      "cell_type": "code",
      "source": [
        "array1=np.array([[1,2,],[4,6]])\n",
        "array2=np.array([[90,18],[11,23]])\n",
        "array=np.concatenate((array1,array2),axis=0)\n",
        "array"
      ],
      "metadata": {
        "colab": {
          "base_uri": "https://localhost:8080/"
        },
        "id": "VawQoaUb-yMs",
        "outputId": "97399388-8132-4633-dec1-9898fb78c5ab"
      },
      "execution_count": 146,
      "outputs": [
        {
          "output_type": "execute_result",
          "data": {
            "text/plain": [
              "array([[ 1,  2],\n",
              "       [ 4,  6],\n",
              "       [90, 18],\n",
              "       [11, 23]])"
            ]
          },
          "metadata": {},
          "execution_count": 146
        }
      ]
    },
    {
      "cell_type": "code",
      "source": [
        "array1=np.array([[1,2,],[4,6]])\n",
        "array2=np.array([[90,18],[11,23]])\n",
        "array=np.concatenate((array1,array2),axis=1)\n",
        "array"
      ],
      "metadata": {
        "colab": {
          "base_uri": "https://localhost:8080/"
        },
        "id": "oca-nkZsAqWF",
        "outputId": "d7d8b454-5284-488c-f12f-500ea5a5b0f8"
      },
      "execution_count": 147,
      "outputs": [
        {
          "output_type": "execute_result",
          "data": {
            "text/plain": [
              "array([[ 1,  2, 90, 18],\n",
              "       [ 4,  6, 11, 23]])"
            ]
          },
          "metadata": {},
          "execution_count": 147
        }
      ]
    },
    {
      "cell_type": "code",
      "source": [
        "#Using Stack Function\n",
        "arr1 = np.array([1, 2, 3])\n",
        "arr2 = np.array([4, 5, 6])\n",
        "arr = np.stack((arr1, arr2),axis=1)\n",
        "arr"
      ],
      "metadata": {
        "colab": {
          "base_uri": "https://localhost:8080/"
        },
        "id": "I97AVr3PDm_R",
        "outputId": "6283720f-0125-4537-8e3f-df73114a4806"
      },
      "execution_count": 153,
      "outputs": [
        {
          "output_type": "execute_result",
          "data": {
            "text/plain": [
              "array([[1, 4],\n",
              "       [2, 5],\n",
              "       [3, 6]])"
            ]
          },
          "metadata": {},
          "execution_count": 153
        }
      ]
    },
    {
      "cell_type": "code",
      "source": [
        "a=np.array([[1,2],[44,55]])\n",
        "b=np.array([[11,22],[99,33]])\n",
        "a1=np.concatenate((a,b),axis=1)\n",
        "a1"
      ],
      "metadata": {
        "colab": {
          "base_uri": "https://localhost:8080/"
        },
        "id": "FtVgJJzDDwBA",
        "outputId": "b6efdeb7-52dd-4cd5-ddde-6890b313778e"
      },
      "execution_count": 162,
      "outputs": [
        {
          "output_type": "execute_result",
          "data": {
            "text/plain": [
              "array([[ 1,  2, 11, 22],\n",
              "       [44, 55, 99, 33]])"
            ]
          },
          "metadata": {},
          "execution_count": 162
        }
      ]
    },
    {
      "cell_type": "markdown",
      "source": [
        "# **Splitting Array**"
      ],
      "metadata": {
        "id": "PbJPlZkaFizu"
      }
    },
    {
      "cell_type": "code",
      "source": [
        "a=np.array([[1,2,3],[78,99,11],[76,909,44],[1100,8,43],[111,222,3333]])\n",
        "c=np.array_split(a,4)\n",
        "c"
      ],
      "metadata": {
        "colab": {
          "base_uri": "https://localhost:8080/"
        },
        "id": "U-DG0cCiEziY",
        "outputId": "c509d547-e7d0-44e2-df63-0bc0b87d260c"
      },
      "execution_count": 166,
      "outputs": [
        {
          "output_type": "execute_result",
          "data": {
            "text/plain": [
              "[array([[ 1,  2,  3],\n",
              "        [78, 99, 11]]),\n",
              " array([[ 76, 909,  44]]),\n",
              " array([[1100,    8,   43]]),\n",
              " array([[ 111,  222, 3333]])]"
            ]
          },
          "metadata": {},
          "execution_count": 166
        }
      ]
    },
    {
      "cell_type": "markdown",
      "source": [
        "# **Searching Numpy Arrays**"
      ],
      "metadata": {
        "id": "ag-7lZzBH-Gh"
      }
    },
    {
      "cell_type": "code",
      "source": [
        "#Find Even Numbers\n",
        "a1=np.arange(1,41)\n",
        "b1=np.where(a1%2==0)\n",
        "print(b1)\n",
        "a2=np.array([1,2,3,4,5,6,7,8,9,10])\n",
        "b2=np.where(a2%2==0)\n",
        "b2"
      ],
      "metadata": {
        "colab": {
          "base_uri": "https://localhost:8080/"
        },
        "id": "APidXCC_IDOl",
        "outputId": "22fadee2-a1d3-4cf9-bf3e-dc964ac57fa9"
      },
      "execution_count": 169,
      "outputs": [
        {
          "output_type": "stream",
          "name": "stdout",
          "text": [
            "(array([ 1,  3,  5,  7,  9, 11, 13, 15, 17, 19, 21, 23, 25, 27, 29, 31, 33,\n",
            "       35, 37, 39]),)\n"
          ]
        },
        {
          "output_type": "execute_result",
          "data": {
            "text/plain": [
              "(array([1, 3, 5, 7, 9]),)"
            ]
          },
          "metadata": {},
          "execution_count": 169
        }
      ]
    },
    {
      "cell_type": "code",
      "source": [],
      "metadata": {
        "id": "Hohwf3SwIDWC"
      },
      "execution_count": null,
      "outputs": []
    }
  ]
}